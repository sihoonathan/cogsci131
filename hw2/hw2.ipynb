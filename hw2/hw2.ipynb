{
 "cells": [
  {
   "cell_type": "markdown",
   "metadata": {},
   "source": [
    "# 1a"
   ]
  },
  {
   "cell_type": "code",
   "execution_count": 2,
   "metadata": {},
   "outputs": [
    {
     "data": {
      "image/png": "[encoded data removed]",
      "text/plain": [
       "<Figure size 432x288 with 1 Axes>"
      ]
     },
     "metadata": {
      "needs_background": "light"
     },
     "output_type": "display_data"
    }
   ],
   "source": [
    "import matplotlib.pyplot as plt\n",
    "import numpy as np\n",
    "import random\n",
    "\n",
    "def path_finder(time_in_s, initial_x=0, initial_y=0):\n",
    "\n",
    "    curr_pos_x = initial_x\n",
    "    curr_pos_y = initial_y\n",
    "\n",
    "    global path_x\n",
    "    global path_y\n",
    "    path_x = [curr_pos_x]\n",
    "    path_y = [curr_pos_y]\n",
    "\n",
    "    for n in range(0, time_in_s):\n",
    "        curr_pos_x = curr_pos_x + np.random.normal()\n",
    "        curr_pos_y = curr_pos_y + np.random.normal()\n",
    "        path_x.append(curr_pos_x)\n",
    "        path_y.append(curr_pos_y)\n",
    "\n",
    "path_finder(3600)\n",
    "\n",
    "x = path_x\n",
    "y = path_y\n",
    "\n",
    "fig = plt.figure()\n",
    "ax = plt.axes()\n",
    "\n",
    "#plt.axis([-50, 50, -50, 50])\n",
    "plt.plot(x, y, color='orangered', linewidth=4)\n",
    "plt.xlabel('path in x')\n",
    "plt.ylabel('path in y')\n",
    "plt.title('Path of ant wandering randomly by taking steps (x,y), one per second')\n",
    "#plt.scatter(x, y, color='orange', marker='^')\n",
    "#ax.xaxis.set(ticks=range(0,21),)\n",
    "plt.savefig('foo.png')\n",
    "plt.show()"
   ]
  },
  {
   "cell_type": "markdown",
   "metadata": {},
   "source": [
    "# 1b"
   ]
  },
  {
   "cell_type": "code",
   "execution_count": 9,
   "metadata": {},
   "outputs": [
    {
     "name": "stdout",
     "output_type": "stream",
     "text": [
      "0.219\n"
     ]
    }
   ],
   "source": [
    "import matplotlib.pyplot as plt\n",
    "import numpy as np\n",
    "import random\n",
    "from math import sqrt\n",
    "\n",
    "def path_finder(time_in_s, initial_x=0, initial_y=0):\n",
    "    curr_pos_x = initial_x\n",
    "    curr_pos_y = initial_y\n",
    "\n",
    "    global path_x\n",
    "    global path_y\n",
    "    path_x = [curr_pos_x]\n",
    "    path_y = [curr_pos_y]\n",
    "\n",
    "    for n in range(0, time_in_s):\n",
    "        curr_pos_x = curr_pos_x + np.random.normal()\n",
    "        curr_pos_y = curr_pos_y + np.random.normal()\n",
    "        path_x.append(curr_pos_x)\n",
    "        path_y.append(curr_pos_y)\n",
    "\n",
    "def nest_finder(time_in_s, nest_dist, nest_pos_x=0, nest_pos_y=0):\n",
    "    path_finder(time_in_s)\n",
    "\n",
    "    food_pos_x = path_x[-1]\n",
    "    food_pos_y = path_y[-1]\n",
    "\n",
    "    curr_pos_x = food_pos_x\n",
    "    curr_pos_y = food_pos_y\n",
    "\n",
    "    found_nest = False\n",
    "\n",
    "    for n in range(0, time_in_s):\n",
    "        curr_pos_x = curr_pos_x + np.random.normal()\n",
    "        curr_pos_y = curr_pos_y + np.random.normal()\n",
    "        dist_from_nest = sqrt(curr_pos_x ** 2 + curr_pos_y ** 2)\n",
    "\n",
    "        if dist_from_nest <= nest_dist:\n",
    "            found_nest = True\n",
    "            break\n",
    "\n",
    "    if found_nest:\n",
    "        return True\n",
    "\n",
    "    return False\n",
    "\n",
    "def prob_finder(time_in_s, num_trials, nest_dist):\n",
    "    found = 0\n",
    "    n = 0\n",
    "    while n < num_trials:\n",
    "        if nest_finder(time_in_s, nest_dist) == True:\n",
    "            found += 1\n",
    "        n += 1\n",
    "    return found / num_trials\n",
    "\n",
    "\n",
    "prob = prob_finder(3600, 1000, 10)\n",
    "print(prob)"
   ]
  },
  {
   "cell_type": "code",
   "execution_count": 4,
   "metadata": {},
   "outputs": [],
   "source": [
    "### The probability I get is 0.2x with 1000 trials. Obviously, this is not a \n",
    "### good strategy because the ant is solely relying on a random steps to find \n",
    "### its way back to its nest. With 1000 trials, the probablility of finding the \n",
    "### nest is 0.2, which is certainly not a good number. Close to 80% of the time, \n",
    "### the ant will end up wandering around unable to find its way back to the nest, \n",
    "### therefore, this is not a good strategy. "
   ]
  },
  {
   "cell_type": "markdown",
   "metadata": {},
   "source": [
    "# 1c"
   ]
  },
  {
   "cell_type": "code",
   "execution_count": 10,
   "metadata": {},
   "outputs": [
    {
     "name": "stdout",
     "output_type": "stream",
     "text": [
      "47.558947560537014\n"
     ]
    }
   ],
   "source": [
    "def avg_closest(time_in_s, nest_pos_x=0, nest_pos_y=0):    \n",
    "    \n",
    "    path_finder(time_in_s)\n",
    "\n",
    "    food_pos_x = path_x[-1]\n",
    "    food_pos_y = path_y[-1]\n",
    "\n",
    "    curr_pos_x = food_pos_x\n",
    "    curr_pos_y = food_pos_y\n",
    "\n",
    "    closest_dist = sqrt(food_pos_x ** 2 + food_pos_y ** 2)\n",
    "    \n",
    "    for n in range(0, time_in_s):\n",
    "        curr_pos_x = curr_pos_x + np.random.normal()\n",
    "        curr_pos_y = curr_pos_y + np.random.normal()\n",
    "        \n",
    "        curr_dist = sqrt(curr_pos_x ** 2 + curr_pos_y ** 2)\n",
    "\n",
    "        if curr_dist < closest_dist:\n",
    "            closest_dist = curr_dist\n",
    "\n",
    "    return closest_dist     \n",
    "\n",
    "def prob_finder(time_in_s, num_trials):\n",
    "    \n",
    "    n = 0\n",
    "    closest_dist_sum = 0\n",
    "    \n",
    "    while n < num_trials:\n",
    "    \n",
    "        closest_dist_sum += avg_closest(time_in_s)\n",
    "        n += 1\n",
    "    return closest_dist_sum / num_trials\n",
    "\n",
    "closest_avg = prob_finder(3600, 1000)\n",
    "print(closest_avg)"
   ]
  },
  {
   "cell_type": "code",
   "execution_count": 6,
   "metadata": {},
   "outputs": [],
   "source": [
    "### Average closest distance would be 45 based on 1000 trial runs."
   ]
  },
  {
   "cell_type": "markdown",
   "metadata": {},
   "source": [
    "# 2"
   ]
  },
  {
   "cell_type": "code",
   "execution_count": 14,
   "metadata": {
    "scrolled": true
   },
   "outputs": [
    {
     "data": {
      "image/png": "[encoded data removed]",
      "text/plain": [
       "<Figure size 432x288 with 1 Axes>"
      ]
     },
     "metadata": {
      "needs_background": "light"
     },
     "output_type": "display_data"
    }
   ],
   "source": [
    "def memory_vector_finder(time_in_s, std_dev, initial_x=0, initial_y=0):\n",
    "    curr_pos_x = initial_x\n",
    "    curr_pos_y = initial_y\n",
    "    memory_x = initial_x\n",
    "    memory_y = initial_y\n",
    "    for n in range(0, time_in_s):   \n",
    "        x_step = np.random.normal()\n",
    "        y_step = np.random.normal()\n",
    "        curr_pos_x = curr_pos_x + x_step\n",
    "        curr_pos_y = curr_pos_y + y_step\n",
    "        memory_x =  (memory_x + x_step + np.random.normal(scale=std_dev))\n",
    "        memory_y =  (memory_y + y_step + np.random.normal(scale=std_dev))\n",
    "    dist_x = curr_pos_x - memory_x\n",
    "    dist_y = curr_pos_y - memory_y\n",
    "    dist = sqrt(dist_x**2 + dist_y**2)\n",
    "    return dist\n",
    "def avg_distance_finder(time_in_s, std_dev, num_trials):\n",
    "    memory_vector_sum = 0\n",
    "    for n in range(0, num_trials):\n",
    "        memory_vector_sum += memory_vector_finder(time_in_s, std_dev)\n",
    "    return memory_vector_sum / num_trials\n",
    "t_1, t_2, t_3, t_4, t_5, t_6 = avg_distance_finder(3600, 1, 10), avg_distance_finder(3600, 0.1, 10), avg_distance_finder(3600, 0.01, 10), avg_distance_finder(3600, 0.001, 10), avg_distance_finder(3600, 0.0001, 10), avg_distance_finder(3600, 0.00001, 10)\n",
    "y = [t_6, t_5, t_4, t_3, t_2, t_1]\n",
    "x = [0.00001, 0.0001, 0.001, 0.01, 0.1, 1]\n",
    "fig = plt.figure()\n",
    "ax = plt.axes()\n",
    "ax.set_xscale('log')\n",
    "plt.plot(x, y, color='orangered', linewidth=4)\n",
    "plt.xlabel('Std. Deviation of Noise (mm)')\n",
    "plt.ylabel('Avg. Distance from Nest (mm)')\n",
    "plt.title('Avg. Distance from Nest vs. Std. Deviation of Noise')\n",
    "plt.savefig('foo.png')\n",
    "plt.show()\n"
   ]
  },
  {
   "cell_type": "markdown",
   "metadata": {},
   "source": [
    "# 3a\n"
   ]
  },
  {
   "cell_type": "code",
   "execution_count": 1,
   "metadata": {},
   "outputs": [
    {
     "ename": "NameError",
     "evalue": "name 't1_std' is not defined",
     "output_type": "error",
     "traceback": [
      "\u001b[0;31m---------------------------------------------------------------------------\u001b[0m",
      "\u001b[0;31mNameError\u001b[0m                                 Traceback (most recent call last)",
      "\u001b[0;32m<ipython-input-1-64640956c244>\u001b[0m in \u001b[0;36m<module>\u001b[0;34m\u001b[0m\n\u001b[1;32m     22\u001b[0m \u001b[0;32mdef\u001b[0m \u001b[0menergy_finder\u001b[0m\u001b[0;34m(\u001b[0m\u001b[0mt_std_dev\u001b[0m\u001b[0;34m)\u001b[0m\u001b[0;34m:\u001b[0m\u001b[0;34m\u001b[0m\u001b[0;34m\u001b[0m\u001b[0m\n\u001b[1;32m     23\u001b[0m     \u001b[0;32mreturn\u001b[0m \u001b[0;34m(\u001b[0m\u001b[0mnp\u001b[0m\u001b[0;34m.\u001b[0m\u001b[0mexp\u001b[0m\u001b[0;34m(\u001b[0m\u001b[0;36m0.1\u001b[0m \u001b[0;34m/\u001b[0m \u001b[0mt_std_dev\u001b[0m\u001b[0;34m[\u001b[0m\u001b[0;36m1\u001b[0m\u001b[0;34m]\u001b[0m\u001b[0;34m)\u001b[0m \u001b[0;34m+\u001b[0m \u001b[0;34m(\u001b[0m\u001b[0mt_std_dev\u001b[0m\u001b[0;34m[\u001b[0m\u001b[0;36m0\u001b[0m\u001b[0;34m]\u001b[0m \u001b[0;34m**\u001b[0m \u001b[0;36m2\u001b[0m\u001b[0;34m)\u001b[0m\u001b[0;34m)\u001b[0m\u001b[0;34m\u001b[0m\u001b[0;34m\u001b[0m\u001b[0m\n\u001b[0;32m---> 24\u001b[0;31m \u001b[0me1\u001b[0m \u001b[0;34m=\u001b[0m \u001b[0menergy_finder\u001b[0m\u001b[0;34m(\u001b[0m\u001b[0mt1_std\u001b[0m\u001b[0;34m)\u001b[0m\u001b[0;34m\u001b[0m\u001b[0;34m\u001b[0m\u001b[0m\n\u001b[0m\u001b[1;32m     25\u001b[0m \u001b[0me2\u001b[0m \u001b[0;34m=\u001b[0m \u001b[0menergy_finder\u001b[0m\u001b[0;34m(\u001b[0m\u001b[0mt2_std\u001b[0m\u001b[0;34m)\u001b[0m\u001b[0;34m\u001b[0m\u001b[0;34m\u001b[0m\u001b[0m\n\u001b[1;32m     26\u001b[0m \u001b[0me3\u001b[0m \u001b[0;34m=\u001b[0m \u001b[0menergy_finder\u001b[0m\u001b[0;34m(\u001b[0m\u001b[0mt3_std\u001b[0m\u001b[0;34m)\u001b[0m\u001b[0;34m\u001b[0m\u001b[0;34m\u001b[0m\u001b[0m\n",
      "\u001b[0;31mNameError\u001b[0m: name 't1_std' is not defined"
     ]
    }
   ],
   "source": [
    "def memory_vector_finder(time_in_s, std_dev, initial_x=0, initial_y=0):\n",
    "    curr_pos_x = initial_x\n",
    "    curr_pos_y = initial_y\n",
    "    memory_x = initial_x\n",
    "    memory_y = initial_y\n",
    "    for n in range(0, time_in_s):\n",
    "        x_step = np.random.normal()\n",
    "        y_step = np.random.normal()\n",
    "        curr_pos_x = curr_pos_x + x_step\n",
    "        curr_pos_y = curr_pos_y + y_step\n",
    "        memory_x =  (memory_x + x_step + np.random.normal(scale=std_dev))\n",
    "        memory_y =  (memory_y + y_step + np.random.normal(scale=std_dev)) \n",
    "    dist_x = curr_pos_x - memory_x\n",
    "    dist_y = curr_pos_y - memory_y\n",
    "    dist = sqrt(dist_x**2 + dist_y**2)\n",
    "    return dist\n",
    "def avg_distance_finder(time_in_s, std_dev, num_trials):\n",
    "    memory_vector_sum = 0\n",
    "    for n in range(0, num_trials):\n",
    "        memory_vector_sum += memory_vector_finder(time_in_s, std_dev)\n",
    "    return memory_vector_sum / num_trials\n",
    "def energy_finder(t_std_dev):\n",
    "    return (np.exp(0.1 / t_std_dev[1]) + (t_std_dev[0] ** 2))\n",
    "e1 = energy_finder(t1_std)\n",
    "e2 = energy_finder(t2_std)\n",
    "e3 = energy_finder(t3_std)\n",
    "e4 = energy_finder(t4_std)\n",
    "e5 = energy_finder(t5_std)\n",
    "e6 = energy_finder(t6_std)\n",
    "y = [e1, e2, e3, e4, e5, e6]\n",
    "x = [1, 0.1, 0.01, 0.001, 0.0001, 0.00001]\n",
    "fig = plt.figure()\n",
    "ax = plt.axes()\n",
    "ax.set_xscale('log')\n",
    "ax.set_yscale('log')\n",
    "plt.plot(x, y, color='orangered', linewidth=4)\n",
    "plt.xlabel('Std. Deviation of Noise (mm)')\n",
    "plt.ylabel('Avg. Energy Expended while on a Foraging Trip')\n",
    "plt.title('Avg. Energy Expended vs. Std. Deviation of Noise')\n",
    "plt.savefig('foo.png')\n",
    "plt.show()"
   ]
  },
  {
   "cell_type": "markdown",
   "metadata": {},
   "source": [
    "# 3b"
   ]
  },
  {
   "cell_type": "code",
   "execution_count": null,
   "metadata": {},
   "outputs": [],
   "source": [
    "### The minimum energy is spent when the std. deviation is 0.1. From the evolutionary point of view, it makes \n",
    "### perfect sense for ants to adapt to 0.1 std to spend least amount of energy because this is the point where \n",
    "### there is optimal balance between the avg closest distance from a nest ants end up at & the energy spent. \n",
    "### If I compare the graph from 2 and 3a, when std=1.0, the distance from nest is significantly larger than \n",
    "### when std=1.0 and energy expenditure is also farily larger, so it is unfeasible for an ant to have evolved \n",
    "### to adapt to std=1.0. When std=0.01, there is tiny gain to reduce distance from distance, but its advantage is \n",
    "### very minimal compared to the significantly larger energy expenditure. Therefore, std of 0.1 is the perfect number \n",
    "### for an ant to have evolved to adapt to balance the energy and the probabiltiy of finding the food and finding \n",
    "### its way back to the nest."
   ]
  }
 ],
 "metadata": {
  "kernelspec": {
   "display_name": "Python 3",
   "language": "python",
   "name": "python3"
  },
  "language_info": {
   "codemirror_mode": {
    "name": "ipython",
    "version": 3
   },
   "file_extension": ".py",
   "mimetype": "text/x-python",
   "name": "python",
   "nbconvert_exporter": "python",
   "pygments_lexer": "ipython3",
   "version": "3.7.1"
  }
 },
 "nbformat": 4,
 "nbformat_minor": 2
}
