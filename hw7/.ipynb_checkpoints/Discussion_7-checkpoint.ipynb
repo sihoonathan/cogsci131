{
 "cells": [
  {
   "cell_type": "code",
   "execution_count": 1,
   "metadata": {},
   "outputs": [
    {
     "data": {
      "text/plain": [
       "'\\nTemplate code for Assignment 7\\n(Based on modification of the pyramid demo from the box2d testbed in pymunk)\\n'"
      ]
     },
     "execution_count": 1,
     "metadata": {},
     "output_type": "execute_result"
    }
   ],
   "source": [
    "\"\"\"\n",
    "Template code for Assignment 7\n",
    "(Based on modification of the pyramid demo from the box2d testbed in pymunk)\n",
    "\"\"\"\n"
   ]
  },
  {
   "cell_type": "code",
   "execution_count": 2,
   "metadata": {},
   "outputs": [
    {
     "name": "stdout",
     "output_type": "stream",
     "text": [
      "pygame 1.9.4\n",
      "Hello from the pygame community. https://www.pygame.org/contribute.html\n",
      "Loading chipmunk for Darwin (64bit) [/usr/local/lib/python3.7/site-packages/pymunk/libchipmunk.dylib]\n"
     ]
    }
   ],
   "source": [
    "import random\n",
    "import time\n",
    "import pygame\n",
    "import numpy\n",
    "from pygame.locals import *\n",
    "from pygame.color import *\n",
    "import pymunk\n",
    "from pymunk import Vec2d\n",
    "import pymunk.pygame_util\n",
    "import csv\n"
   ]
  },
  {
   "cell_type": "code",
   "execution_count": 3,
   "metadata": {},
   "outputs": [],
   "source": [
    "# Some general variables -- you don't need to change any of these\n",
    "N_BLOCKS = 6 # How many blocks will fall?\n",
    "BLOCK_SIZE = 20 # How big are the blocks?\n",
    "deltaY     = 35 # How far spaced out vertically are they?\n",
    "xSD        = 30.0 # What is the SD for their x-locations?\n",
    "FPS = 30. # how many frames per second do we run?\n",
    "BLOCK_MASS = 1.0\n",
    "BLOCK_FRICTION = 1.0\n",
    "FLOOR = 100\n",
    "RUN_TIME = 10.0 # Time in seconds that we will run a simulation for\n",
    "STEPS_PER_FRAME = 5.0 # Do not change this\n",
    "WIDTH = 600 # Screen dimensions -- don't change\n",
    "HEIGHT = 600"
   ]
  },
  {
   "cell_type": "code",
   "execution_count": 4,
   "metadata": {},
   "outputs": [],
   "source": [
    "class BlockTower:\n",
    "    # Implement a class to show/simulate blocks falling via pymunk\n",
    "    # Note: this code has been modified from the pymunk pyramid demo\n",
    "\n",
    "    def __init__(self, positions):\n",
    "        # The intializer takes a list of x-positions for blocks; their height is set\n",
    "        # by the code here.\n",
    "        assert(len(positions)==N_BLOCKS) # can't give more than N_BLOCKS since we need to draw them\n",
    "\n",
    "        self.positions = positions # store the positions of our blocks\n",
    "\n",
    "        # Set up some pygame stuff\n",
    "        self.running = True\n",
    "        self.physics_running = False\n",
    "        self.start_time = 0\n",
    "        self.drawing = True\n",
    "        self.w, self.h = WIDTH,HEIGHT\n",
    "        self.screen = pygame.display.set_mode((self.w, self.h))\n",
    "        self.clock = pygame.time.Clock()\n",
    "\n",
    "        ### Init pymunk and create space\n",
    "        self.space = pymunk.Space()\n",
    "        self.space.gravity = (0.0, -900.0)\n",
    "        self.space.sleep_time_threshold = 0.3\n",
    "\n",
    "        self.floor = pymunk.Segment(self.space.static_body, (0, FLOOR), (self.w,FLOOR), 1.0)\n",
    "        self.floor.friction = 1.0\n",
    "        self.space.add(self.floor)\n",
    "\n",
    "        # Draw each block and add it to the physics\n",
    "        for i in range(N_BLOCKS):\n",
    "            points = [(-BLOCK_SIZE, -BLOCK_SIZE), (-BLOCK_SIZE, BLOCK_SIZE), (BLOCK_SIZE,BLOCK_SIZE), (BLOCK_SIZE, -BLOCK_SIZE)]\n",
    "            moment = pymunk.moment_for_poly(BLOCK_MASS, points, (0,0))\n",
    "            body = pymunk.Body(BLOCK_MASS, moment)\n",
    "            xpos = self.positions[i]\n",
    "            ypos = FLOOR + (2*i+1) * deltaY\n",
    "            body.position = Vec2d(xpos,ypos)\n",
    "            shape = pymunk.Poly(body, points)\n",
    "            if(i == N_BLOCKS-1):     # color the top\n",
    "                shape.color = (1,0,0,1)\n",
    "                self.target_block = shape # store the top one we are tracking\n",
    "            shape.friction = 1\n",
    "            self.space.add(body,shape)\n",
    "\n",
    "        ### draw options for drawing\n",
    "        self.draw_options = pymunk.pygame_util.DrawOptions(self.screen)\n",
    "\n",
    "    def is_black_block_on_floor(self):\n",
    "        # Returns true or false depending on whether the black block is on the bottom\n",
    "        col = self.target_block.shapes_collide(self.floor) # this resturns a ContactPointSet\n",
    "        return len(col.points) > 0\n",
    "\n",
    "    def run_person(self):\n",
    "        # Show a window where people can predict yes/no (y/n) for whether the black block hits the bottom.\n",
    "        # After they respond, they can observe the physics.\n",
    "        # Rteturns their prediction and whether the black block actually hit the floor\n",
    "\n",
    "        prediction = None # what people predicted?\n",
    "\n",
    "        # Call this to run a single simulation with the given positions\n",
    "        while self.running and (time.time() - self.start_time) < RUN_TIME or self.start_time==0:\n",
    "            for event in pygame.event.get():\n",
    "                if event.type == QUIT:\n",
    "                    self.running = False\n",
    "                elif event.type == KEYDOWN and event.key == K_ESCAPE:\n",
    "                    self.running = False\n",
    "                elif event.type == KEYDOWN and (event.key == K_y or event.key==K_n):  ## This detects a space press and starts simulating\n",
    "                    prediction = (event.key == K_y)\n",
    "                    self.physics_running = True\n",
    "                    self.start_time = time.time()  # remember the time that physics started running\n",
    "\n",
    "            if self.physics_running:\n",
    "                self.space.step(1.0 / FPS / STEPS_PER_FRAME)  ## conveera frames per second to internal clock tics -- don't change!\n",
    "\n",
    "            if self.drawing:\n",
    "                self.draw()\n",
    "\n",
    "            self.clock.tick(FPS) # don't let this loop run faster than FPS\n",
    "        return (prediction, self.is_black_block_on_floor())\n",
    "\n",
    "    def simulate(self):\n",
    "        # Just run a simulation, returning whether after 10s the black block hits the floor\n",
    "        for s in range(int(FPS*5*RUN_TIME)): # run for 10s\n",
    "            self.space.step(1.0 / FPS / STEPS_PER_FRAME) # run this many steps\n",
    "        return self.is_black_block_on_floor()\n",
    "\n",
    "    def draw(self):\n",
    "        ### This gets called to draw the scene\n",
    "\n",
    "        ### Clear the screen\n",
    "        self.screen.fill(THECOLORS[\"white\"])\n",
    "\n",
    "        ### Draw space  with our given options\n",
    "        self.space.debug_draw(self.draw_options)\n",
    "\n",
    "        ### All done, lets flip the display, which will cause it to be displayed\n",
    "        pygame.display.flip()\n"
   ]
  },
  {
   "cell_type": "code",
   "execution_count": null,
   "metadata": {},
   "outputs": [
    {
     "name": "stdout",
     "output_type": "stream",
     "text": [
      "True\n"
     ]
    }
   ],
   "source": [
    "########################################################################################################################\n",
    "### Main code below\n",
    "########################################################################################################################\n",
    "# make some blocks at WIDTH/2 with a given SD\n",
    "positions = [numpy.random.normal(WIDTH/2, xSD) for _ in range(N_BLOCKS)]\n",
    "\n",
    "demo = BlockTower(positions)\n",
    "print(demo.simulate())\n",
    "\n",
    "# Create a second one to show the blocks falling and get responses\n",
    "# (note: we CANNOT run demo.run_person because that one has alread run -- we have to make a new BlockTower object)\n",
    "demo2 = BlockTower(positions)\n",
    "print(demo2.run_person())\n",
    "\n",
    "pygame.quit()"
   ]
  },
  {
   "cell_type": "markdown",
   "metadata": {},
   "source": [
    "### Kernel dies when the pygame window is closed "
   ]
  },
  {
   "cell_type": "markdown",
   "metadata": {},
   "source": [
    "## Creating new csv file in python\n"
   ]
  },
  {
   "cell_type": "code",
   "execution_count": 31,
   "metadata": {},
   "outputs": [],
   "source": [
    "import csv\n",
    "\n",
    "with open('prediction.csv', 'w') as csvfile:\n",
    "    wr = csv.writer(csvfile, quoting=csv.QUOTE_ALL)\n",
    "    wr.writerows([[\"1\",\"2\",\"3\",\"4\",\"5\",\"6\",\"pred-truth\"]])\n",
    "    \n",
    "    "
   ]
  },
  {
   "cell_type": "markdown",
   "metadata": {},
   "source": [
    "## Running Simulations and saving in csv file"
   ]
  },
  {
   "cell_type": "code",
   "execution_count": 11,
   "metadata": {},
   "outputs": [
    {
     "name": "stdout",
     "output_type": "stream",
     "text": [
      "type y/n\n"
     ]
    },
    {
     "ename": "KeyboardInterrupt",
     "evalue": "",
     "output_type": "error",
     "traceback": [
      "\u001b[0;31m---------------------------------------------------------------------------\u001b[0m",
      "\u001b[0;31mKeyboardInterrupt\u001b[0m                         Traceback (most recent call last)",
      "\u001b[0;32m<ipython-input-11-6149d0e05c36>\u001b[0m in \u001b[0;36m<module>\u001b[0;34m\u001b[0m\n\u001b[1;32m      5\u001b[0m     \u001b[0mobj\u001b[0m \u001b[0;34m=\u001b[0m \u001b[0mBlockTower\u001b[0m\u001b[0;34m(\u001b[0m\u001b[0mrow\u001b[0m\u001b[0;34m[\u001b[0m\u001b[0;36m0\u001b[0m\u001b[0;34m]\u001b[0m\u001b[0;34m)\u001b[0m\u001b[0;34m\u001b[0m\u001b[0;34m\u001b[0m\u001b[0m\n\u001b[1;32m      6\u001b[0m     \u001b[0mprint\u001b[0m\u001b[0;34m(\u001b[0m\u001b[0;34m\"type y/n\"\u001b[0m\u001b[0;34m)\u001b[0m\u001b[0;34m\u001b[0m\u001b[0;34m\u001b[0m\u001b[0m\n\u001b[0;32m----> 7\u001b[0;31m     \u001b[0ma\u001b[0m \u001b[0;34m=\u001b[0m \u001b[0mobj\u001b[0m\u001b[0;34m.\u001b[0m\u001b[0mrun_person\u001b[0m\u001b[0;34m(\u001b[0m\u001b[0;34m)\u001b[0m\u001b[0;34m\u001b[0m\u001b[0;34m\u001b[0m\u001b[0m\n\u001b[0m\u001b[1;32m      8\u001b[0m     \u001b[0mprint\u001b[0m\u001b[0;34m(\u001b[0m\u001b[0;34m\"1 run over\"\u001b[0m\u001b[0;34m)\u001b[0m\u001b[0;34m\u001b[0m\u001b[0;34m\u001b[0m\u001b[0m\n\u001b[1;32m      9\u001b[0m     \u001b[0mrow\u001b[0m\u001b[0;34m[\u001b[0m\u001b[0;36m0\u001b[0m\u001b[0;34m]\u001b[0m\u001b[0;34m.\u001b[0m\u001b[0mappend\u001b[0m\u001b[0;34m(\u001b[0m\u001b[0ma\u001b[0m\u001b[0;34m)\u001b[0m\u001b[0;34m\u001b[0m\u001b[0;34m\u001b[0m\u001b[0m\n",
      "\u001b[0;32m<ipython-input-4-5eca608e00f4>\u001b[0m in \u001b[0;36mrun_person\u001b[0;34m(self)\u001b[0m\n\u001b[1;32m     76\u001b[0m                 \u001b[0mself\u001b[0m\u001b[0;34m.\u001b[0m\u001b[0mdraw\u001b[0m\u001b[0;34m(\u001b[0m\u001b[0;34m)\u001b[0m\u001b[0;34m\u001b[0m\u001b[0;34m\u001b[0m\u001b[0m\n\u001b[1;32m     77\u001b[0m \u001b[0;34m\u001b[0m\u001b[0m\n\u001b[0;32m---> 78\u001b[0;31m             \u001b[0mself\u001b[0m\u001b[0;34m.\u001b[0m\u001b[0mclock\u001b[0m\u001b[0;34m.\u001b[0m\u001b[0mtick\u001b[0m\u001b[0;34m(\u001b[0m\u001b[0mFPS\u001b[0m\u001b[0;34m)\u001b[0m \u001b[0;31m# don't let this loop run faster than FPS\u001b[0m\u001b[0;34m\u001b[0m\u001b[0;34m\u001b[0m\u001b[0m\n\u001b[0m\u001b[1;32m     79\u001b[0m         \u001b[0;32mreturn\u001b[0m \u001b[0;34m(\u001b[0m\u001b[0mprediction\u001b[0m\u001b[0;34m,\u001b[0m \u001b[0mself\u001b[0m\u001b[0;34m.\u001b[0m\u001b[0mis_black_block_on_floor\u001b[0m\u001b[0;34m(\u001b[0m\u001b[0;34m)\u001b[0m\u001b[0;34m)\u001b[0m\u001b[0;34m\u001b[0m\u001b[0;34m\u001b[0m\u001b[0m\n\u001b[1;32m     80\u001b[0m \u001b[0;34m\u001b[0m\u001b[0m\n",
      "\u001b[0;31mKeyboardInterrupt\u001b[0m: "
     ]
    }
   ],
   "source": [
    "\n",
    "for i in range(0, 1):\n",
    "    row = []\n",
    "    row.append([numpy.random.normal(WIDTH/2, xSD) for _ in range(N_BLOCKS)])\n",
    "    obj = BlockTower(row[0])\n",
    "    print(\"type y/n\")\n",
    "    a = obj.run_person()\n",
    "    print(\"1 run over\")\n",
    "    row[0].append(a)\n",
    "    print(row)\n",
    "    with open('prediction.csv', 'a', newline='') as csvfile:\n",
    "        writer = csv.writer(csvfile, quoting=csv.QUOTE_ALL)\n",
    "        writer.writerows(row)\n",
    "    \n",
    "    "
   ]
  },
  {
   "cell_type": "markdown",
   "metadata": {},
   "source": [
    "## Navigating the data frame using pandas"
   ]
  },
  {
   "cell_type": "code",
   "execution_count": 12,
   "metadata": {},
   "outputs": [],
   "source": [
    "import pandas as pd"
   ]
  },
  {
   "cell_type": "code",
   "execution_count": 13,
   "metadata": {},
   "outputs": [],
   "source": [
    "pred = pd.read_csv(\"prediction.csv\")"
   ]
  },
  {
   "cell_type": "code",
   "execution_count": 14,
   "metadata": {},
   "outputs": [
    {
     "data": {
      "text/html": [
       "<div>\n",
       "<style scoped>\n",
       "    .dataframe tbody tr th:only-of-type {\n",
       "        vertical-align: middle;\n",
       "    }\n",
       "\n",
       "    .dataframe tbody tr th {\n",
       "        vertical-align: top;\n",
       "    }\n",
       "\n",
       "    .dataframe thead th {\n",
       "        text-align: right;\n",
       "    }\n",
       "</style>\n",
       "<table border=\"1\" class=\"dataframe\">\n",
       "  <thead>\n",
       "    <tr style=\"text-align: right;\">\n",
       "      <th></th>\n",
       "      <th>1</th>\n",
       "      <th>2</th>\n",
       "      <th>3</th>\n",
       "      <th>4</th>\n",
       "      <th>5</th>\n",
       "      <th>6</th>\n",
       "      <th>pred-truth</th>\n",
       "    </tr>\n",
       "  </thead>\n",
       "  <tbody>\n",
       "    <tr>\n",
       "      <th>0</th>\n",
       "      <td>340.331359</td>\n",
       "      <td>284.396293</td>\n",
       "      <td>249.692093</td>\n",
       "      <td>260.615125</td>\n",
       "      <td>273.364383</td>\n",
       "      <td>311.609797</td>\n",
       "      <td>(True, True)</td>\n",
       "    </tr>\n",
       "  </tbody>\n",
       "</table>\n",
       "</div>"
      ],
      "text/plain": [
       "            1           2           3           4           5           6  \\\n",
       "0  340.331359  284.396293  249.692093  260.615125  273.364383  311.609797   \n",
       "\n",
       "     pred-truth  \n",
       "0  (True, True)  "
      ]
     },
     "execution_count": 14,
     "metadata": {},
     "output_type": "execute_result"
    }
   ],
   "source": [
    "pred.iloc[[0]]"
   ]
  },
  {
   "cell_type": "code",
   "execution_count": 16,
   "metadata": {},
   "outputs": [
    {
     "data": {
      "text/plain": [
       "284.39629259187404"
      ]
     },
     "execution_count": 16,
     "metadata": {},
     "output_type": "execute_result"
    }
   ],
   "source": [
    "pred.iloc[0, 1]"
   ]
  },
  {
   "cell_type": "code",
   "execution_count": 25,
   "metadata": {},
   "outputs": [
    {
     "data": {
      "text/plain": [
       "1    340.331\n",
       "2    284.396\n",
       "3    249.692\n",
       "4    260.615\n",
       "5    273.364\n",
       "6     311.61\n",
       "Name: 0, dtype: object"
      ]
     },
     "execution_count": 25,
     "metadata": {},
     "output_type": "execute_result"
    }
   ],
   "source": [
    "pred.iloc[0, 0:6]"
   ]
  },
  {
   "cell_type": "code",
   "execution_count": 30,
   "metadata": {},
   "outputs": [
    {
     "data": {
      "text/plain": [
       "'(True, True)'"
      ]
     },
     "execution_count": 30,
     "metadata": {},
     "output_type": "execute_result"
    }
   ],
   "source": [
    "pred.iloc[0, 6]"
   ]
  },
  {
   "cell_type": "code",
   "execution_count": 36,
   "metadata": {},
   "outputs": [
    {
     "data": {
      "text/plain": [
       "1             float64\n",
       "2             float64\n",
       "3             float64\n",
       "4             float64\n",
       "5             float64\n",
       "6             float64\n",
       "pred-truth     object\n",
       "dtype: object"
      ]
     },
     "execution_count": 36,
     "metadata": {},
     "output_type": "execute_result"
    }
   ],
   "source": [
    "pred.dtypes"
   ]
  },
  {
   "cell_type": "code",
   "execution_count": 44,
   "metadata": {},
   "outputs": [
    {
     "data": {
      "text/html": [
       "<div>\n",
       "<style scoped>\n",
       "    .dataframe tbody tr th:only-of-type {\n",
       "        vertical-align: middle;\n",
       "    }\n",
       "\n",
       "    .dataframe tbody tr th {\n",
       "        vertical-align: top;\n",
       "    }\n",
       "\n",
       "    .dataframe thead th {\n",
       "        text-align: right;\n",
       "    }\n",
       "</style>\n",
       "<table border=\"1\" class=\"dataframe\">\n",
       "  <thead>\n",
       "    <tr style=\"text-align: right;\">\n",
       "      <th></th>\n",
       "      <th>1</th>\n",
       "      <th>2</th>\n",
       "      <th>3</th>\n",
       "      <th>4</th>\n",
       "      <th>5</th>\n",
       "      <th>6</th>\n",
       "      <th>pred-truth</th>\n",
       "    </tr>\n",
       "  </thead>\n",
       "  <tbody>\n",
       "    <tr>\n",
       "      <th>0</th>\n",
       "      <td>340.33135859942706</td>\n",
       "      <td>284.39629259187404</td>\n",
       "      <td>249.69209273901825</td>\n",
       "      <td>260.6151249178028</td>\n",
       "      <td>273.36438286589697</td>\n",
       "      <td>311.6097972337356</td>\n",
       "      <td>(True, True)</td>\n",
       "    </tr>\n",
       "  </tbody>\n",
       "</table>\n",
       "</div>"
      ],
      "text/plain": [
       "                    1                   2                   3  \\\n",
       "0  340.33135859942706  284.39629259187404  249.69209273901825   \n",
       "\n",
       "                   4                   5                  6    pred-truth  \n",
       "0  260.6151249178028  273.36438286589697  311.6097972337356  (True, True)  "
      ]
     },
     "execution_count": 44,
     "metadata": {},
     "output_type": "execute_result"
    }
   ],
   "source": [
    "pred.astype('str')"
   ]
  },
  {
   "cell_type": "code",
   "execution_count": 61,
   "metadata": {},
   "outputs": [
    {
     "name": "stdout",
     "output_type": "stream",
     "text": [
      "[1    353.484\n",
      "2    280.438\n",
      "3    245.952\n",
      "4    262.148\n",
      "5    279.057\n",
      "6    326.967\n",
      "Name: 0, dtype: object]\n",
      "False\n",
      "[1    340.544\n",
      "2     266.53\n",
      "3    246.701\n",
      "4    263.882\n",
      "5    280.384\n",
      "6    330.707\n",
      "Name: 0, dtype: object]\n",
      "True\n",
      "[1     332.26\n",
      "2    293.138\n",
      "3    250.903\n",
      "4    259.325\n",
      "5    260.338\n",
      "6     295.24\n",
      "Name: 0, dtype: object]\n",
      "True\n",
      "[1    329.996\n",
      "2    291.073\n",
      "3    247.998\n",
      "4    280.121\n",
      "5    277.105\n",
      "6    320.947\n",
      "Name: 0, dtype: object]\n",
      "True\n",
      "[1    349.005\n",
      "2    295.776\n",
      "3    245.283\n",
      "4    277.039\n",
      "5     282.97\n",
      "6    288.203\n",
      "Name: 0, dtype: object]\n",
      "False\n",
      "[1     325.04\n",
      "2     294.98\n",
      "3     243.44\n",
      "4    264.044\n",
      "5    277.225\n",
      "6     322.86\n",
      "Name: 0, dtype: object]\n",
      "False\n",
      "[1    349.763\n",
      "2    260.631\n",
      "3    262.904\n",
      "4    252.905\n",
      "5    277.915\n",
      "6    310.279\n",
      "Name: 0, dtype: object]\n",
      "True\n",
      "[1    343.056\n",
      "2    296.749\n",
      "3    253.893\n",
      "4    267.715\n",
      "5    271.389\n",
      "6    311.457\n",
      "Name: 0, dtype: object]\n",
      "True\n",
      "[1    325.178\n",
      "2    280.045\n",
      "3    246.177\n",
      "4    254.865\n",
      "5    277.531\n",
      "6    316.713\n",
      "Name: 0, dtype: object]\n",
      "True\n",
      "[1    340.192\n",
      "2    307.432\n",
      "3    269.958\n",
      "4    234.042\n",
      "5    265.037\n",
      "6    304.102\n",
      "Name: 0, dtype: object]\n",
      "False\n"
     ]
    }
   ],
   "source": [
    "#Adding randomness in the positions\n",
    "\n",
    "for i in range(0, 1):\n",
    "    for j in range(0, 10):\n",
    "        position = pred.iloc[0, 0:6] + [numpy.random.normal(0, 10) for _ in range(6)]\n",
    "        print([position])\n",
    "        a = BlockTower(position).simulate()\n",
    "        print(a)"
   ]
  },
  {
   "cell_type": "code",
   "execution_count": null,
   "metadata": {},
   "outputs": [],
   "source": []
  }
 ],
 "metadata": {
  "kernelspec": {
   "display_name": "Python 3",
   "language": "python",
   "name": "python3"
  },
  "language_info": {
   "codemirror_mode": {
    "name": "ipython",
    "version": 3
   },
   "file_extension": ".py",
   "mimetype": "text/x-python",
   "name": "python",
   "nbconvert_exporter": "python",
   "pygments_lexer": "ipython3",
   "version": "3.7.1"
  }
 },
 "nbformat": 4,
 "nbformat_minor": 2
}
