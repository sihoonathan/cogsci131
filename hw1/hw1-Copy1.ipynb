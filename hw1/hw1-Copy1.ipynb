{
 "cells": [
  {
   "cell_type": "markdown",
   "metadata": {},
   "source": [
    "# 1a"
   ]
  },
  {
   "cell_type": "code",
   "execution_count": 15,
   "metadata": {},
   "outputs": [
    {
     "data": {
      "image/png": "[encoded data removed]",
      "text/plain": [
       "<Figure size 432x288 with 1 Axes>"
      ]
     },
     "metadata": {
      "needs_background": "light"
     },
     "output_type": "display_data"
    }
   ],
   "source": [
    "import matplotlib.pyplot as plt\n",
    "\n",
    "def Vx(alpha, beta, lambdah, initial):\n",
    "    change_Vx = alpha * beta * (lambdah - initial)\n",
    "\n",
    "    return initial + change_Vx\n",
    "\n",
    "\n",
    "def trial_runner(alpha, beta, lambdah, initial, num_trials):\n",
    "    index = 1\n",
    "    association_list = [initial]\n",
    "    while index < num_trials:\n",
    "        next = Vx(alpha, beta, lambdah, initial)\n",
    "        initial = next\n",
    "        association_list.append(initial)\n",
    "        index+=1 \n",
    "    return association_list\n",
    "\n",
    "\n",
    "x = list(range(0, 21))\n",
    "y = list(trial_runner(0.75, 0.1, 1.0, 0.05, 21))\n",
    "\n",
    "fig = plt.figure()\n",
    "ax = fig.add_subplot(111)\n",
    "ax.set_xlim(1, 21)\n",
    "ax.set_ylim(0, 1)\n",
    "plt.plot(x, y, color='red', linewidth=4)\n",
    "plt.xlabel('Number of Pairings')\n",
    "plt.ylabel('Association Strength for Light')\n",
    "plt.title('Correlation b/t Association Strength for Light and Number of Trials ')\n",
    "#plt.scatter(x, y, color='darkgreen', marker='^')\n",
    "ax.xaxis.set(ticks=range(0,21),)\n",
    "plt.savefig('foo.png')\n",
    "plt.show()\n"
   ]
  },
  {
   "cell_type": "code",
   "execution_count": 8,
   "metadata": {},
   "outputs": [
    {
     "data": {
      "image/png": "[encoded data removed]",
      "text/plain": [
       "<Figure size 432x288 with 1 Axes>"
      ]
     },
     "metadata": {
      "needs_background": "light"
     },
     "output_type": "display_data"
    }
   ],
   "source": [
    "import matplotlib.pyplot as plt\n",
    "\n",
    "def Vx(alpha, beta, lambdah, initial):\n",
    "    change_Vx = alpha * beta * (lambdah - initial)\n",
    "\n",
    "    return initial + change_Vx\n",
    "\n",
    "\n",
    "def trial_runner(alpha, beta, lambdah, initial, num_trials):\n",
    "    index = 1\n",
    "    association_list = [initial]\n",
    "    while index < num_trials:\n",
    "        next = Vx(alpha, beta, lambdah, initial)\n",
    "        initial = next\n",
    "        association_list.append(initial)\n",
    "        index+=1 \n",
    "    return association_list\n",
    "\n",
    "\n",
    "x = list(range(0, 21))\n",
    "y = list(trial_runner(0.75, 0.1, 1.0, 0.5, 21))\n",
    "\n",
    "fig = plt.figure()\n",
    "ax = fig.add_subplot(111)\n",
    "ax.set_xlim(1, 21)\n",
    "ax.set_ylim(0, 1)\n",
    "plt.plot(x, y, color='blue', linewidth=4)\n",
    "plt.xlabel('Number of Pairings')\n",
    "plt.ylabel('Association Strength for Light')\n",
    "plt.title('Correlation b/t Association Strength for Light and Number of Trials ')\n",
    "#plt.scatter(x, y, color='darkgreen', marker='^')\n",
    "ax.xaxis.set(ticks=range(0,21),)\n",
    "plt.savefig('foo.png')\n",
    "plt.show()\n"
   ]
  },
  {
   "cell_type": "markdown",
   "metadata": {},
   "source": []
  },
  {
   "cell_type": "markdown",
   "metadata": {},
   "source": [
    "# 1b "
   ]
  },
  {
   "cell_type": "code",
   "execution_count": 5,
   "metadata": {},
   "outputs": [
    {
     "name": "stdout",
     "output_type": "stream",
     "text": [
      "0 0.05\n",
      "1 0.12125000000000001\n",
      "2 0.18715625000000002\n",
      "3 0.24811953125000002\n",
      "4 0.30451056640625\n",
      "5 0.35667227392578127\n",
      "6 0.4049218533813477\n",
      "7 0.4495527143777466\n",
      "8 0.49083626079941556\n",
      "9 0.5290235412394594\n",
      "10 0.5643467756464999\n",
      "11 0.5970207674730125\n",
      "12 0.6272442099125365\n",
      "13 0.6552008941690962\n",
      "14 0.681060827106414\n",
      "15 0.704981265073433\n",
      "16 0.7271076701929254\n",
      "17 0.747574594928456\n",
      "18 0.7665065003088218\n",
      "19 0.7840185127856601\n",
      "20 0.8002171243267356\n",
      "21 0.8152008400022305\n",
      "22 0.8290607770020632\n",
      "23 0.8418812187269085\n",
      "24 0.8537401273223904\n",
      "25 0.8647096177732111\n",
      "26 0.8748563964402203\n",
      "27 0.8842421667072038\n",
      "28 0.8929240042041635\n",
      "29 0.9009547038888512\n"
     ]
    }
   ],
   "source": [
    "y = list(trial_runner(0.75, 0.1, 1.0, 0.05, 30))\n",
    "x = list(range(0, 30))\n",
    "for x in x:\n",
    "    print(x, y[x])"
   ]
  },
  {
   "cell_type": "code",
   "execution_count": 6,
   "metadata": {},
   "outputs": [],
   "source": [
    "### It takes 20 trials to reach .8 if the initial association is 0.05.   "
   ]
  },
  {
   "cell_type": "markdown",
   "metadata": {},
   "source": []
  },
  {
   "cell_type": "markdown",
   "metadata": {},
   "source": [
    "# 1c "
   ]
  },
  {
   "cell_type": "code",
   "execution_count": 8,
   "metadata": {
    "scrolled": true
   },
   "outputs": [
    {
     "name": "stdout",
     "output_type": "stream",
     "text": [
      "0 0\n",
      "1 0.11699999999999999\n",
      "2 0.22031099999999998\n",
      "3 0.31153461299999996\n",
      "4 0.39208506327899995\n",
      "5 0.46321111087535694\n",
      "6 0.5260154109029401\n",
      "7 0.5814716078272961\n",
      "8 0.6304394297115025\n",
      "9 0.6736780164352567\n",
      "10 0.7118576885123317\n",
      "11 0.7455703389563888\n",
      "12 0.7753386092984913\n",
      "13 0.8016239920105678\n",
      "14 0.8248339849453313\n",
      "15 0.8453284087067275\n"
     ]
    }
   ],
   "source": [
    "x = list(range(0, 16))\n",
    "y = list(trial_runner(1.17, 0.1, 1.0, 0, 16))\n",
    "for x in x:\n",
    "    print(x, y[x])"
   ]
  },
  {
   "cell_type": "code",
   "execution_count": 9,
   "metadata": {},
   "outputs": [],
   "source": [
    "### By using the numerical trial & error, I was able to approximate the salience value to be 1.17 that surpasses 0.80 association by 13th trials, assuminng the initial association is 0.  "
   ]
  },
  {
   "cell_type": "markdown",
   "metadata": {},
   "source": []
  },
  {
   "cell_type": "markdown",
   "metadata": {},
   "source": [
    "# 2 "
   ]
  },
  {
   "cell_type": "code",
   "execution_count": 7,
   "metadata": {},
   "outputs": [
    {
     "data": {
      "image/png": "[encoded data removed]",
      "text/plain": [
       "<Figure size 432x288 with 1 Axes>"
      ]
     },
     "metadata": {
      "needs_background": "light"
     },
     "output_type": "display_data"
    }
   ],
   "source": [
    "import matplotlib.pyplot as plt\n",
    "\n",
    "def Vax(alpha, beta, lambdah, a, x):\n",
    "    change_Vx = alpha * beta * (lambdah - (a+x))\n",
    "\n",
    "    return a + change_Vx\n",
    "\n",
    "\n",
    "def trial_runner(alpha, beta, lambdah, a, x, num_trials):\n",
    "    index = 1\n",
    "    association_list = [(a, x)]\n",
    "    while index < num_trials:\n",
    "        new_a = Vax(alpha, beta, lambdah, a, x)\n",
    "        new_x = Vax(alpha, beta, lambdah, x, a)\n",
    "        association_list.append((new_a, new_x))\n",
    "        a = new_a\n",
    "        x = new_x\n",
    "        index+=1 \n",
    "    return association_list\n",
    "\n",
    "\n",
    "x = list(range(0, 30))\n",
    "y = [y for (x, y) in trial_runner(0.75, 0.1, 1, 0.8, 0, 30)]\n",
    "\n",
    "\n",
    "\n",
    "fig = plt.figure()\n",
    "ax = fig.add_subplot(111)\n",
    "ax.set_xlim(1, 31)\n",
    "ax.set_ylim(0, 1)\n",
    "plt.plot(x, y, color='blue', linewidth=4)\n",
    "plt.xlabel('Number of Pairings')\n",
    "plt.ylabel('Association Strength for Bell')\n",
    "#plt.scatter(x, y, color='darkgreen', marker='^')\n",
    "#ax.xaxis.set(ticks=range(0,30),)\n",
    "plt.savefig('foo.png')\n",
    "plt.show()"
   ]
  },
  {
   "cell_type": "markdown",
   "metadata": {},
   "source": []
  },
  {
   "cell_type": "markdown",
   "metadata": {},
   "source": [
    "# 3a"
   ]
  },
  {
   "cell_type": "code",
   "execution_count": 11,
   "metadata": {},
   "outputs": [
    {
     "data": {
      "image/png": "[encoded data removed]",
      "text/plain": [
       "<Figure size 432x288 with 1 Axes>"
      ]
     },
     "metadata": {
      "needs_background": "light"
     },
     "output_type": "display_data"
    }
   ],
   "source": [
    "import matplotlib.pyplot as plt\n",
    "\n",
    "def Vx(alpha, beta, lambdah, initial):\n",
    "    change_Vx = alpha * beta * (lambdah - initial)\n",
    "\n",
    "    return initial + change_Vx\n",
    "\n",
    "def Vex(alpha, beta, lambdah, x):\n",
    "    change_Vx = alpha * beta * (-x)\n",
    "\n",
    "    return x + change_Vx\n",
    "\n",
    "def l_e_trial_runner(alpha, beta, lambdah, initial, num_trials):\n",
    "    index = 1\n",
    "    association_list = [initial]\n",
    "    while index < num_trials:\n",
    "        if index % 2 == 1:\n",
    "            initial = Vx(alpha, beta, lambdah, initial)\n",
    "        else:\n",
    "            initial = Vex(alpha, beta, lambdah, initial)\n",
    "        association_list.append(initial)\n",
    "        index+=1 \n",
    "    return association_list\n",
    "\n",
    "x = list(range(0, 100))\n",
    "y = list(l_e_trial_runner(0.75, 0.1, 1, 0, 100))\n",
    "\n",
    "fig = plt.figure()\n",
    "ax = fig.add_subplot(111)\n",
    "ax.set_xlim(1, 101)\n",
    "ax.set_ylim(0, 1)\n",
    "plt.plot(x, y, color='blue', linewidth=4)\n",
    "plt.xlabel('Number of Pairings')\n",
    "plt.ylabel('Association Strength for a Bell')\n",
    "#plt.scatter(x, y, color='darkgreen', marker='^')\n",
    "#ax.xaxis.set(ticks=range(0,101),)\n",
    "plt.savefig('foo.png')\n",
    "plt.show()\n",
    "\n",
    "#for x in x:\n",
    " #   print(x, y[x])\n"
   ]
  },
  {
   "cell_type": "code",
   "execution_count": null,
   "metadata": {},
   "outputs": [],
   "source": [
    "### As trials continue, the associaciation strength gradually increases and plateaus around 0.5 of association strength since 0.5 is where the learning formula and extinction formula cancel each other out, hence the association difference is close to 0, which is exactly why the line plateau towards more trials."
   ]
  },
  {
   "cell_type": "markdown",
   "metadata": {},
   "source": []
  },
  {
   "cell_type": "markdown",
   "metadata": {},
   "source": [
    "# 3b"
   ]
  },
  {
   "cell_type": "code",
   "execution_count": 12,
   "metadata": {},
   "outputs": [
    {
     "data": {
      "image/png": "[encoded data removed]",
      "text/plain": [
       "<Figure size 432x288 with 1 Axes>"
      ]
     },
     "metadata": {
      "needs_background": "light"
     },
     "output_type": "display_data"
    }
   ],
   "source": [
    "import matplotlib.pyplot as plt\n",
    "import random\n",
    "\n",
    "def VxVex(alpha, beta, lambdah, initial, p):\n",
    "    change_VxVex = p * alpha * beta * (lambdah - initial) + (1-p) * alpha * beta * (-initial)\n",
    "\n",
    "    return initial + change_VxVex\n",
    "\n",
    "p_list = []\n",
    "\n",
    "def trial_runner_with_random_p(alpha, beta, lambdah, initial, num_trials):\n",
    "    index = 1\n",
    "    association_list = [initial]\n",
    "\n",
    "    while index < num_trials:\n",
    "        p = random.random()\n",
    "        p_list.append(p)\n",
    "        result = VxVex(alpha, beta, lambdah, initial, p)\n",
    "        initial = result\n",
    "        association_list.append(initial)\n",
    "        index+=1 \n",
    "    return association_list\n",
    "\n",
    "x = list(range(0, 10000))\n",
    "y = list(trial_runner_with_random_p(0.75, 0.1, 1, 0, 10000))\n",
    "\n",
    "#for x in x:\n",
    " #   print(x, y[x], p_list[x])\n",
    "\n",
    "fig = plt.figure()\n",
    "ax = fig.add_subplot(111)\n",
    "ax.set_xlim(1, 10000)\n",
    "ax.set_ylim(0, 1)\n",
    "plt.plot(x, y, color='blue', linewidth=4)\n",
    "plt.xlabel('Number of Pairings')\n",
    "plt.ylabel('Association Strength for a Bell')\n",
    "#plt.scatter(x, y, color='darkgreen', marker='^')\n",
    "#ax.xaxis.set(ticks=range(0,101),)\n",
    "plt.savefig('foo.png')\n",
    "plt.show()\n",
    "\n",
    "#for x in x:\n",
    " #   print(x, y[x])\n"
   ]
  },
  {
   "cell_type": "code",
   "execution_count": null,
   "metadata": {},
   "outputs": [],
   "source": [
    "### At a Marr's computational level, even if probability of paring with bell & food and probability of pairing with bell & no food, the averages of each probability is 0.5. That is why the association strength oscillates around 0.5."
   ]
  },
  {
   "cell_type": "markdown",
   "metadata": {},
   "source": [
    "# 4"
   ]
  },
  {
   "cell_type": "code",
   "execution_count": 37,
   "metadata": {},
   "outputs": [],
   "source": [
    "### Value of Salience means how strong signals captures subject's attention. The value of learning rate is how fast subjects learn. The reason why we think they are different factors is that even if salience does have a positive correlation with learning rate, it is not an identical factor. For example, a sound of bell on a subject will have a stronger salience on a subject than a sound of a clock ticking. Just because it captured attention of a subject in a higher rate does not necessarily mean that their learning process was in place. \n",
    "\n",
    "#In an instance of experiment, monkeys are presumed to learn slower than humans, which means that their learning rate will be lower than humans, which in turn means that their salience can be presumed to be lower than humans as well. In order to disentangle the salience and learning rate, we can have a setting where salience for both monkeys and humans are kept same, but humans will demonstrate to have a higher learning rate. Therefore, salience and learning rate is not an identical factor. "
   ]
  },
  {
   "cell_type": "code",
   "execution_count": null,
   "metadata": {},
   "outputs": [],
   "source": []
  },
  {
   "cell_type": "code",
   "execution_count": null,
   "metadata": {},
   "outputs": [],
   "source": []
  }
 ],
 "metadata": {
  "kernelspec": {
   "display_name": "Python 3",
   "language": "python",
   "name": "python3"
  },
  "language_info": {
   "codemirror_mode": {
    "name": "ipython",
    "version": 3
   },
   "file_extension": ".py",
   "mimetype": "text/x-python",
   "name": "python",
   "nbconvert_exporter": "python",
   "pygments_lexer": "ipython3",
   "version": "3.7.1"
  }
 },
 "nbformat": 4,
 "nbformat_minor": 2
}
